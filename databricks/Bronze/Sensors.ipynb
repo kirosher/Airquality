{
 "cells": [
  {
   "cell_type": "code",
   "execution_count": 0,
   "metadata": {
    "application/vnd.databricks.v1+cell": {
     "cellMetadata": {
      "byteLimit": 2048000,
      "implicitDf": true,
      "rowLimit": 10000
     },
     "inputWidgets": {},
     "nuid": "da27444a-480a-49f0-bfae-040e8359bc84",
     "showTitle": false,
     "tableResultSettingsMap": {},
     "title": ""
    }
   },
   "outputs": [],
   "source": [
    "%sql\n",
    "CREATE SCHEMA IF NOT EXISTS bronze"
   ]
  },
  {
   "cell_type": "code",
   "execution_count": 0,
   "metadata": {
    "application/vnd.databricks.v1+cell": {
     "cellMetadata": {
      "byteLimit": 2048000,
      "implicitDf": true,
      "rowLimit": 10000
     },
     "inputWidgets": {},
     "nuid": "22cc1187-59cc-47d6-a007-1e8c0787185c",
     "showTitle": false,
     "tableResultSettingsMap": {},
     "title": ""
    }
   },
   "outputs": [],
   "source": [
    "%sql\n",
    "CREATE or REPLACE TABLE bronze.sensors (\n",
    "    sensor_id STRING,\n",
    "    value DOUBLE,\n",
    "    pollutant STRING,\n",
    "    unit STRING,\n",
    "    datetimeFrom STRING,\n",
    "    datetimeTo STRING\n",
    ")"
   ]
  },
  {
   "cell_type": "code",
   "execution_count": 0,
   "metadata": {
    "application/vnd.databricks.v1+cell": {
     "cellMetadata": {
      "byteLimit": 2048000,
      "implicitDf": true,
      "rowLimit": 10000
     },
     "inputWidgets": {},
     "nuid": "957dd0fc-f814-4d72-a9e9-6be6e61fd9cc",
     "showTitle": false,
     "tableResultSettingsMap": {},
     "title": ""
    }
   },
   "outputs": [],
   "source": [
    "%sql\n",
    "INSERT INTO bronze.sensors\n",
    "\n",
    "SELECT\n",
    "    regexp_extract(input_file_name(), 'sensor_(\\\\d+)\\\\.json', 1) AS sensor_id,\n",
    "    r.value AS value,\n",
    "    r.parameter.name as pollutant,\n",
    "    r.parameter.units as unit,\n",
    "    r.period.datetimeFrom.local as datetimeFrom,\n",
    "    r.period.datetimeTo.local as datetimeTo\n",
    "FROM\n",
    "    json.`abfss://airdata@airstorage.dfs.core.windows.net/2025/August/12th/Sensorinfo/*.json`\n",
    "LATERAL VIEW EXPLODE(results) AS r"
   ]
  },
  {
   "cell_type": "code",
   "execution_count": 0,
   "metadata": {
    "application/vnd.databricks.v1+cell": {
     "cellMetadata": {
      "byteLimit": 2048000,
      "implicitDf": true,
      "rowLimit": 10000
     },
     "inputWidgets": {},
     "nuid": "691ea461-8a24-4c63-bd4c-1ed1f1cb5801",
     "showTitle": false,
     "tableResultSettingsMap": {},
     "title": ""
    }
   },
   "outputs": [],
   "source": [
    "%sql\n",
    "CREATE or REPLACE TABLE bronze.month (\n",
    "    sensor_id STRING,\n",
    "    value DOUBLE,\n",
    "    pollutant STRING,\n",
    "    unit STRING,\n",
    "    datetimeFrom STRING,\n",
    "    datetimeTo STRING\n",
    ")"
   ]
  },
  {
   "cell_type": "code",
   "execution_count": 0,
   "metadata": {
    "application/vnd.databricks.v1+cell": {
     "cellMetadata": {
      "byteLimit": 2048000,
      "implicitDf": true,
      "rowLimit": 10000
     },
     "inputWidgets": {},
     "nuid": "068734c6-ab44-47f4-9e2b-3d74277eda96",
     "showTitle": false,
     "tableResultSettingsMap": {},
     "title": ""
    }
   },
   "outputs": [],
   "source": [
    "%sql\n",
    "INSERT INTO bronze.month\n",
    "\n",
    "SELECT\n",
    "    regexp_extract(input_file_name(), 'sensor_(\\\\d+)\\\\.json', 1) AS sensor_id,\n",
    "    r.value AS value,\n",
    "    r.parameter.name as pollutant,\n",
    "    r.parameter.units as unit,\n",
    "    r.period.datetimeFrom.local as datetimeFrom,\n",
    "    r.period.datetimeTo.local as datetimeTo\n",
    "FROM\n",
    "    json.`abfss://airdata@airstorage.dfs.core.windows.net/2025/August/15th/Sensorinfo/*.json`\n",
    "LATERAL VIEW EXPLODE(results) AS r\n",
    "EXCEPT\n",
    "SELECT sensor_id, value, pollutant, unit, datetimeFrom, datetimeTo\n",
    "FROM bronze.month"
   ]
  }
 ],
 "metadata": {
  "application/vnd.databricks.v1+notebook": {
   "computePreferences": {
    "hardware": {
     "accelerator": null,
     "gpuPoolId": null,
     "memory": null
    }
   },
   "dashboards": [],
   "environmentMetadata": {
    "base_environment": "",
    "environment_version": "2"
   },
   "inputWidgetPreferences": null,
   "language": "python",
   "notebookMetadata": {
    "mostRecentlyExecutedCommandWithImplicitDF": {
     "commandId": 8997080654383159,
     "dataframes": [
      "_sqldf"
     ]
    },
    "pythonIndentUnit": 4
   },
   "notebookName": "Sensors",
   "widgets": {}
  },
  "language_info": {
   "name": "python"
  }
 },
 "nbformat": 4,
 "nbformat_minor": 0
}
