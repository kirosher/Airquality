{
 "cells": [
  {
   "cell_type": "code",
   "execution_count": 0,
   "metadata": {
    "application/vnd.databricks.v1+cell": {
     "cellMetadata": {
      "byteLimit": 2048000,
      "implicitDf": true,
      "rowLimit": 10000
     },
     "inputWidgets": {},
     "nuid": "da27444a-480a-49f0-bfae-040e8359bc84",
     "showTitle": false,
     "tableResultSettingsMap": {},
     "title": ""
    }
   },
   "outputs": [],
   "source": [
    "%sql\n",
    "CREATE SCHEMA IF NOT EXISTS bronze"
   ]
  },
  {
   "cell_type": "code",
   "execution_count": 0,
   "metadata": {
    "application/vnd.databricks.v1+cell": {
     "cellMetadata": {
      "byteLimit": 2048000,
      "implicitDf": true,
      "rowLimit": 10000
     },
     "inputWidgets": {},
     "nuid": "22cc1187-59cc-47d6-a007-1e8c0787185c",
     "showTitle": false,
     "tableResultSettingsMap": {},
     "title": ""
    }
   },
   "outputs": [],
   "source": [
    "%sql\n",
    "CREATE TABLE bronze.Info_march (\n",
    "    sensor_id STRING,\n",
    "    value DOUBLE,\n",
    "    pollutant STRING,\n",
    "    unit STRING,\n",
    "    datetimeFrom STRING,\n",
    "    datetimeTo STRING\n",
    ")"
   ]
  },
  {
   "cell_type": "code",
   "execution_count": 0,
   "metadata": {
    "application/vnd.databricks.v1+cell": {
     "cellMetadata": {
      "byteLimit": 2048000,
      "implicitDf": true,
      "rowLimit": 10000
     },
     "inputWidgets": {},
     "nuid": "957dd0fc-f814-4d72-a9e9-6be6e61fd9cc",
     "showTitle": false,
     "tableResultSettingsMap": {},
     "title": ""
    }
   },
   "outputs": [],
   "source": [
    "%sql\n",
    "INSERT INTO bronze.Info_march\n",
    "\n",
    "SELECT\n",
    "    regexp_extract(input_file_name(), 'sensor_(\\\\d+)\\\\.json', 1) AS sensor_id,\n",
    "    r.value AS value,\n",
    "    r.parameter.name as pollutant,\n",
    "    r.parameter.units as unit,\n",
    "    r.period.datetimeFrom.local as datetimeFrom,\n",
    "    r.period.datetimeTo.local as datetimeTo\n",
    "FROM\n",
    "    json.`abfss://airdata@airstorage.dfs.core.windows.net/2025/August/12th/Sensorinfo/*.json`\n",
    "LATERAL VIEW EXPLODE(results) AS r"
   ]
  },
  {
   "cell_type": "code",
   "execution_count": 0,
   "metadata": {
    "application/vnd.databricks.v1+cell": {
     "cellMetadata": {
      "byteLimit": 2048000,
      "implicitDf": true,
      "rowLimit": 10000
     },
     "inputWidgets": {},
     "nuid": "2b34c499-c5fa-40ed-a66f-6206b63daa20",
     "showTitle": false,
     "tableResultSettingsMap": {},
     "title": ""
    }
   },
   "outputs": [],
   "source": [
    "%sql\n",
    "ALTER TABLE bronze.Info_march\n",
    "RENAME TO bronze.sensors;"
   ]
  },
  {
   "cell_type": "code",
   "execution_count": 0,
   "metadata": {
    "application/vnd.databricks.v1+cell": {
     "cellMetadata": {
      "byteLimit": 2048000,
      "implicitDf": true,
      "rowLimit": 10000
     },
     "inputWidgets": {},
     "nuid": "9c12bee5-70ae-4142-80c9-f3870c532bdf",
     "showTitle": false,
     "tableResultSettingsMap": {},
     "title": ""
    }
   },
   "outputs": [],
   "source": [
    "%sql\n",
    "select *\n",
    "from bronze.sensors"
   ]
  },
  {
   "cell_type": "code",
   "execution_count": 0,
   "metadata": {
    "application/vnd.databricks.v1+cell": {
     "cellMetadata": {
      "byteLimit": 2048000,
      "implicitDf": true,
      "rowLimit": 10000
     },
     "inputWidgets": {},
     "nuid": "28f3505f-9a55-48fa-aa74-64286028dd2b",
     "showTitle": false,
     "tableResultSettingsMap": {},
     "title": ""
    }
   },
   "outputs": [],
   "source": [
    "%sql\n",
    "select distinct pollutant\n",
    "from bronze.sensors"
   ]
  },
  {
   "cell_type": "code",
   "execution_count": 0,
   "metadata": {
    "application/vnd.databricks.v1+cell": {
     "cellMetadata": {
      "byteLimit": 2048000,
      "implicitDf": true,
      "rowLimit": 10000
     },
     "inputWidgets": {},
     "nuid": "691ea461-8a24-4c63-bd4c-1ed1f1cb5801",
     "showTitle": false,
     "tableResultSettingsMap": {},
     "title": ""
    }
   },
   "outputs": [],
   "source": [
    "%sql\n",
    "CREATE TABLE bronze.Info_april (\n",
    "    sensor_id STRING,\n",
    "    value DOUBLE,\n",
    "    pollutant STRING,\n",
    "    unit STRING,\n",
    "    datetimeFrom STRING,\n",
    "    datetimeTo STRING\n",
    ")"
   ]
  },
  {
   "cell_type": "code",
   "execution_count": 0,
   "metadata": {
    "application/vnd.databricks.v1+cell": {
     "cellMetadata": {
      "byteLimit": 2048000,
      "implicitDf": true,
      "rowLimit": 10000
     },
     "inputWidgets": {},
     "nuid": "068734c6-ab44-47f4-9e2b-3d74277eda96",
     "showTitle": false,
     "tableResultSettingsMap": {},
     "title": ""
    }
   },
   "outputs": [],
   "source": [
    "%sql\n",
    "INSERT INTO bronze.Info_april\n",
    "\n",
    "SELECT\n",
    "    regexp_extract(input_file_name(), 'sensor_(\\\\d+)\\\\.json', 1) AS sensor_id,\n",
    "    r.value AS value,\n",
    "    r.parameter.name as pollutant,\n",
    "    r.parameter.units as unit,\n",
    "    r.period.datetimeFrom.local as datetimeFrom,\n",
    "    r.period.datetimeTo.local as datetimeTo\n",
    "FROM\n",
    "    json.`abfss://airdata@airstorage.dfs.core.windows.net/2025/August/15th/Sensorinfo/*.json`\n",
    "LATERAL VIEW EXPLODE(results) AS r"
   ]
  },
  {
   "cell_type": "code",
   "execution_count": 0,
   "metadata": {
    "application/vnd.databricks.v1+cell": {
     "cellMetadata": {
      "byteLimit": 2048000,
      "implicitDf": true,
      "rowLimit": 10000
     },
     "inputWidgets": {},
     "nuid": "4e1c82f0-0dac-4197-a487-77d678e83adc",
     "showTitle": false,
     "tableResultSettingsMap": {},
     "title": ""
    }
   },
   "outputs": [],
   "source": [
    "%sql\n",
    "select *\n",
    "from bronze.info_april"
   ]
  },
  {
   "cell_type": "code",
   "execution_count": 0,
   "metadata": {
    "application/vnd.databricks.v1+cell": {
     "cellMetadata": {
      "byteLimit": 2048000,
      "implicitDf": true,
      "rowLimit": 10000
     },
     "inputWidgets": {},
     "nuid": "aab620b6-b65c-4fe2-b99c-614a3588028a",
     "showTitle": false,
     "tableResultSettingsMap": {},
     "title": ""
    }
   },
   "outputs": [],
   "source": [
    "%sql\n",
    "CREATE OR REPLACE TABLE bronze.sensors AS\n",
    "SELECT * FROM bronze.sensors\n",
    "UNION\n",
    "SELECT * FROM bronze.info_april\n"
   ]
  },
  {
   "cell_type": "code",
   "execution_count": 0,
   "metadata": {
    "application/vnd.databricks.v1+cell": {
     "cellMetadata": {
      "byteLimit": 2048000,
      "implicitDf": true,
      "rowLimit": 10000
     },
     "inputWidgets": {},
     "nuid": "1472a133-6ba8-463d-b1ee-f1b0a85d64b5",
     "showTitle": false,
     "tableResultSettingsMap": {},
     "title": ""
    }
   },
   "outputs": [],
   "source": [
    "%sql\n",
    "select *\n",
    "from bronze.sensors\n",
    "where sensor_id = '6601'\n",
    "ORDER BY datetimeFrom"
   ]
  }
 ],
 "metadata": {
  "application/vnd.databricks.v1+notebook": {
   "computePreferences": null,
   "dashboards": [],
   "environmentMetadata": {
    "base_environment": "",
    "environment_version": "2"
   },
   "inputWidgetPreferences": null,
   "language": "python",
   "notebookMetadata": {
    "mostRecentlyExecutedCommandWithImplicitDF": {
     "commandId": 4728461396196323,
     "dataframes": [
      "_sqldf"
     ]
    },
    "pythonIndentUnit": 4
   },
   "notebookName": "Sensors",
   "widgets": {}
  },
  "language_info": {
   "name": "python"
  }
 },
 "nbformat": 4,
 "nbformat_minor": 0
}
