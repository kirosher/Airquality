{
 "cells": [
  {
   "cell_type": "code",
   "execution_count": 0,
   "metadata": {
    "application/vnd.databricks.v1+cell": {
     "cellMetadata": {
      "byteLimit": 2048000,
      "implicitDf": true,
      "rowLimit": 10000
     },
     "inputWidgets": {},
     "nuid": "fe529d11-fe40-415b-ac76-78d8ae11d0a0",
     "showTitle": false,
     "tableResultSettingsMap": {},
     "title": ""
    }
   },
   "outputs": [],
   "source": [
    "%sql\n",
    "CREATE SCHEMA IF NOT EXISTS gold"
   ]
  },
  {
   "cell_type": "code",
   "execution_count": 0,
   "metadata": {
    "application/vnd.databricks.v1+cell": {
     "cellMetadata": {
      "byteLimit": 2048000,
      "implicitDf": true,
      "rowLimit": 10000
     },
     "inputWidgets": {},
     "nuid": "b04afb75-827c-433b-b2d0-0b5237aa2ed9",
     "showTitle": false,
     "tableResultSettingsMap": {},
     "title": ""
    }
   },
   "outputs": [],
   "source": [
    "%sql\n",
    "\n",
    "CREATE OR REPLACE TABLE gold.full_info AS\n",
    "SELECT st.sensor_id, s.value, s.pollutant, s.unit, s.datetimeFrom as date, st.station_id, st.name,  st.latitude, st.longitude\n",
    "FROM silver.sensors as s\n",
    "INNER JOIN silver.station as st ON s.id = st.sensor_id\n",
    "\n"
   ]
  },
  {
   "cell_type": "code",
   "execution_count": 0,
   "metadata": {
    "application/vnd.databricks.v1+cell": {
     "cellMetadata": {
      "byteLimit": 2048000,
      "implicitDf": true,
      "rowLimit": 10000
     },
     "inputWidgets": {},
     "nuid": "f1f29fd8-8763-4c87-b10c-723f252c02fd",
     "showTitle": false,
     "tableResultSettingsMap": {},
     "title": ""
    }
   },
   "outputs": [],
   "source": [
    "%sql\n",
    "\n",
    "CREATE OR REPLACE TABLE gold.full_info \n",
    "PARTITIONED BY (name)\n",
    "SELECT st.sensor_id, s.value, s.pollutant, s.unit, s.datetimeFrom as date, st.station_id, st.name,  st.latitude, st.longitude\n",
    "FROM silver.sensors as s\n",
    "INNER JOIN silver.station as st ON s.id = st.sensor_id"
   ]
  },
  {
   "cell_type": "code",
   "execution_count": 0,
   "metadata": {
    "application/vnd.databricks.v1+cell": {
     "cellMetadata": {
      "byteLimit": 2048000,
      "implicitDf": true,
      "rowLimit": 10000
     },
     "inputWidgets": {},
     "nuid": "60993421-594e-4114-86c5-e77df497bba1",
     "showTitle": false,
     "tableResultSettingsMap": {},
     "title": ""
    }
   },
   "outputs": [],
   "source": [
    "%sql\n",
    "\n",
    "optimize gold.full_info"
   ]
  },
  {
   "cell_type": "code",
   "execution_count": 0,
   "metadata": {
    "application/vnd.databricks.v1+cell": {
     "cellMetadata": {
      "byteLimit": 2048000,
      "implicitDf": true,
      "rowLimit": 10000
     },
     "inputWidgets": {},
     "nuid": "78b078ea-613d-4556-ae0b-32f37c4e56a4",
     "showTitle": false,
     "tableResultSettingsMap": {
      "0": {
       "dataGridStateBlob": "{\"version\":1,\"tableState\":{\"columnPinning\":{\"left\":[\"#row_number#\"],\"right\":[]},\"columnSizing\":{},\"columnVisibility\":{}},\"settings\":{\"columns\":{}},\"syncTimestamp\":1755609451578}",
       "filterBlob": null,
       "queryPlanFiltersBlob": null,
       "tableResultIndex": 0
      }
     },
     "title": ""
    }
   },
   "outputs": [],
   "source": [
    "%sql\n",
    "select *\n",
    "from gold.full_info"
   ]
  },
  {
   "cell_type": "code",
   "execution_count": 0,
   "metadata": {
    "application/vnd.databricks.v1+cell": {
     "cellMetadata": {
      "byteLimit": 2048000,
      "implicitDf": true,
      "rowLimit": 10000
     },
     "inputWidgets": {},
     "nuid": "48c185ad-86fd-4b17-9e6c-9b369033fbdc",
     "showTitle": false,
     "tableResultSettingsMap": {
      "0": {
       "dataGridStateBlob": "{\"version\":1,\"tableState\":{\"columnPinning\":{\"left\":[\"#row_number#\"],\"right\":[]},\"columnSizing\":{},\"columnVisibility\":{}},\"settings\":{\"columns\":{}},\"syncTimestamp\":1755176818593}",
       "filterBlob": null,
       "queryPlanFiltersBlob": null,
       "tableResultIndex": 0
      }
     },
     "title": ""
    }
   },
   "outputs": [],
   "source": [
    "%sql\n",
    "\n",
    "ALTER TABLE gold.full_info\n",
    "ADD COLUMN hour int\n",
    "\n"
   ]
  },
  {
   "cell_type": "code",
   "execution_count": 0,
   "metadata": {
    "application/vnd.databricks.v1+cell": {
     "cellMetadata": {
      "byteLimit": 2048000,
      "implicitDf": true,
      "rowLimit": 10000
     },
     "inputWidgets": {},
     "nuid": "7acc4ecc-07a9-4c69-889c-63da351dca5b",
     "showTitle": false,
     "tableResultSettingsMap": {},
     "title": ""
    }
   },
   "outputs": [],
   "source": [
    "%sql\n",
    "\n",
    "ALTER TABLE gold.full_info\n",
    "ADD COLUMN day int"
   ]
  },
  {
   "cell_type": "code",
   "execution_count": 0,
   "metadata": {
    "application/vnd.databricks.v1+cell": {
     "cellMetadata": {
      "byteLimit": 2048000,
      "implicitDf": true,
      "rowLimit": 10000
     },
     "inputWidgets": {},
     "nuid": "9dfaf1dc-100e-4208-8b0c-6e5d862c81b6",
     "showTitle": false,
     "tableResultSettingsMap": {},
     "title": ""
    }
   },
   "outputs": [],
   "source": [
    "%sql\n",
    "\n",
    "ALTER TABLE gold.full_info\n",
    "ADD COLUMN month int"
   ]
  },
  {
   "cell_type": "code",
   "execution_count": 0,
   "metadata": {
    "application/vnd.databricks.v1+cell": {
     "cellMetadata": {
      "byteLimit": 2048000,
      "implicitDf": true,
      "rowLimit": 10000
     },
     "inputWidgets": {},
     "nuid": "9b7b0622-3277-450e-8d49-9187172fbf20",
     "showTitle": false,
     "tableResultSettingsMap": {
      "0": {
       "dataGridStateBlob": "{\"version\":1,\"tableState\":{\"columnPinning\":{\"left\":[\"#row_number#\"],\"right\":[]},\"columnSizing\":{},\"columnVisibility\":{}},\"settings\":{\"columns\":{}},\"syncTimestamp\":1755259377980}",
       "filterBlob": null,
       "queryPlanFiltersBlob": null,
       "tableResultIndex": 0
      }
     },
     "title": ""
    }
   },
   "outputs": [],
   "source": [
    "%sql\n",
    "UPDATE gold.full_info\n",
    "SET day = EXTRACT(DAY FROM cast(date as timestamp)),\n",
    "    hour = EXTRACT(HOUR FROM cast(date as timestamp)),\n",
    "    month = EXTRACT(MONTH FROM cast(date as timestamp));\n",
    "\n",
    "select *\n",
    "from gold.full_info"
   ]
  },
  {
   "cell_type": "code",
   "execution_count": 0,
   "metadata": {
    "application/vnd.databricks.v1+cell": {
     "cellMetadata": {
      "byteLimit": 2048000,
      "implicitDf": true,
      "rowLimit": 10000
     },
     "inputWidgets": {},
     "nuid": "fea7ea7c-0013-433c-8aad-01d4a8727483",
     "showTitle": false,
     "tableResultSettingsMap": {
      "0": {
       "dataGridStateBlob": "{\"version\":1,\"tableState\":{\"columnPinning\":{\"left\":[\"#row_number#\"],\"right\":[]},\"columnSizing\":{},\"columnVisibility\":{}},\"settings\":{\"columns\":{}},\"syncTimestamp\":1755179773161}",
       "filterBlob": null,
       "queryPlanFiltersBlob": null,
       "tableResultIndex": 0
      }
     },
     "title": ""
    }
   },
   "outputs": [],
   "source": [
    "%sql\n",
    "Select *\n",
    "from gold.full_info\n",
    "order by month, day, hour\n"
   ]
  },
  {
   "cell_type": "code",
   "execution_count": 0,
   "metadata": {
    "application/vnd.databricks.v1+cell": {
     "cellMetadata": {
      "byteLimit": 2048000,
      "implicitDf": true,
      "rowLimit": 10000
     },
     "inputWidgets": {},
     "nuid": "6ac7b693-2113-444e-b588-c8fe32df2729",
     "showTitle": false,
     "tableResultSettingsMap": {},
     "title": ""
    }
   },
   "outputs": [],
   "source": [
    "%sql\n",
    "CREATE OR REPLACE VIEW gold.distribution AS\n",
    "SELECT avg(value) as total_value,pollutant, name\n",
    "FROM gold.full_info\n",
    "WHERE pollutant not in ('relativehumidity', 'um003', 'temperature'  )  \n",
    "Group by pollutant, name"
   ]
  },
  {
   "cell_type": "code",
   "execution_count": 0,
   "metadata": {
    "application/vnd.databricks.v1+cell": {
     "cellMetadata": {
      "byteLimit": 2048000,
      "implicitDf": true,
      "rowLimit": 10000
     },
     "inputWidgets": {},
     "nuid": "ea7bef7b-e028-4507-946a-86ad5b4bdabc",
     "showTitle": false,
     "tableResultSettingsMap": {},
     "title": ""
    }
   },
   "outputs": [],
   "source": [
    "%sql\n",
    "CREATE OR REPLACE VIEW gold.timeline AS\n",
    "SELECT AVG(value) as value,  name, pollutant, date_trunc('DAY', date) AS date, latitude, longitude\n",
    "\n",
    "FROM gold.full_info\n",
    "WHERE pollutant not in ('relativehumidity', 'um003', 'temperature'  )\n",
    "Group by name, pollutant,  date, latitude, longitude\n",
    "order by name, pollutant, date, latitude, longitude\n"
   ]
  },
  {
   "cell_type": "code",
   "execution_count": 0,
   "metadata": {
    "application/vnd.databricks.v1+cell": {
     "cellMetadata": {
      "byteLimit": 2048000,
      "implicitDf": true,
      "rowLimit": 10000
     },
     "inputWidgets": {},
     "nuid": "1368f4d5-ce6d-41e1-8670-b50990b35fa7",
     "showTitle": false,
     "tableResultSettingsMap": {},
     "title": ""
    }
   },
   "outputs": [],
   "source": [
    "%sql\n",
    "CREATE OR REPLACE VIEW gold.aqi_asset AS\n",
    "SELECT\n",
    "  name,\n",
    "  pollutant,\n",
    "  value,\n",
    "  date, latitude, longitude,\n",
    "  CASE\n",
    "    WHEN pollutant = 'pm25' THEN\n",
    "      CASE\n",
    "        WHEN value BETWEEN 0 AND 12.0 THEN 0\n",
    "        WHEN value BETWEEN 12.1 AND 35.4 THEN 12.1\n",
    "        WHEN value BETWEEN 35.5 AND 55.4 THEN 35.5\n",
    "        WHEN value BETWEEN 55.5 AND 150.4 THEN 55.5\n",
    "        WHEN value BETWEEN 150.5 AND 250.4 THEN 150.5\n",
    "        WHEN value BETWEEN 250.5 AND 350.4 THEN 250.5\n",
    "        WHEN value BETWEEN 350.5 AND 500.4 THEN 350.5\n",
    "      END\n",
    "    WHEN pollutant = 'pm10' THEN\n",
    "    case\n",
    "        WHEN value BETWEEN 0 AND 54 THEN 0\n",
    "        WHEN value BETWEEN 55 AND 154 THEN 55\n",
    "        WHEN value BETWEEN 155 AND 254 THEN 155\n",
    "        WHEN value BETWEEN 255 AND 354 THEN 255\n",
    "        WHEN value BETWEEN 355 AND 424 THEN 355\n",
    "        WHEN value BETWEEN 425 AND 504 THEN 425\n",
    "        WHEN value BETWEEN 505 AND 604 THEN 505\n",
    "      END\n",
    "  END AS min_b,\n",
    "  CASE\n",
    "    WHEN pollutant = 'pm25' THEN\n",
    "      CASE\n",
    "        WHEN value BETWEEN 0 AND 12.0 THEN 12.0\n",
    "        WHEN value BETWEEN 12.1 AND 35.4 THEN 35.4\n",
    "        WHEN value BETWEEN 35.5 AND 55.4 THEN 55.4\n",
    "        WHEN value BETWEEN 55.5 AND 150.4 THEN 150.4\n",
    "        WHEN value BETWEEN 150.5 AND 250.4 THEN 250.4\n",
    "        WHEN value BETWEEN 250.5 AND 350.4 THEN 350.4\n",
    "        WHEN value BETWEEN 350.5 AND 500.4 THEN 500.4\n",
    "      END\n",
    "    WHEN pollutant = 'pm10' THEN\n",
    "      CASE\n",
    "        WHEN value BETWEEN 0 AND 54 THEN 54\n",
    "        WHEN value BETWEEN 55 AND 154 THEN 154\n",
    "        WHEN value BETWEEN 155 AND 254 THEN 254\n",
    "        WHEN value BETWEEN 255 AND 354 THEN 354\n",
    "        WHEN value BETWEEN 355 AND 424 THEN 424\n",
    "        WHEN value BETWEEN 425 AND 504 THEN 504\n",
    "        WHEN value BETWEEN 505 AND 604 THEN 604\n",
    "      END\n",
    "  END AS max_b,\n",
    "  CASE\n",
    "    WHEN pollutant = 'pm25' THEN\n",
    "      CASE\n",
    "        WHEN value BETWEEN 0 AND 12.0 THEN 0\n",
    "        WHEN value BETWEEN 12.1 AND 35.4 THEN 51\n",
    "        WHEN value BETWEEN 35.5 AND 55.4 THEN 101\n",
    "        WHEN value BETWEEN 55.5 AND 150.4 THEN 151\n",
    "        WHEN value BETWEEN 150.5 AND 250.4 THEN 201\n",
    "        WHEN value BETWEEN 250.5 AND 350.4 THEN 301\n",
    "        WHEN value BETWEEN 350.5 AND 500.4 THEN 401\n",
    "      END\n",
    "    WHEN pollutant = 'pm10' THEN\n",
    "      CASE\n",
    "        WHEN value BETWEEN 0 AND 54 THEN 0\n",
    "        WHEN value BETWEEN 55 AND 154 THEN 51\n",
    "        WHEN value BETWEEN 155 AND 254 THEN 101\n",
    "        WHEN value BETWEEN 255 AND 354 THEN 151\n",
    "        WHEN value BETWEEN 355 AND 424 THEN 201\n",
    "        WHEN value BETWEEN 425 AND 504 THEN 301\n",
    "        WHEN value BETWEEN 505 AND 604 THEN 401\n",
    "      END\n",
    "  END AS aqi_min,\n",
    "  CASE\n",
    "    WHEN pollutant = 'pm25' THEN\n",
    "      CASE\n",
    "        WHEN value BETWEEN 0 AND 12.0 THEN 50\n",
    "        WHEN value BETWEEN 12.1 AND 35.4 THEN 100\n",
    "        WHEN value BETWEEN 35.5 AND 55.4 THEN 150\n",
    "        WHEN value BETWEEN 55.5 AND 150.4 THEN 200\n",
    "        WHEN value BETWEEN 150.5 AND 250.4 THEN 300\n",
    "        WHEN value BETWEEN 250.5 AND 350.4 THEN 400\n",
    "        WHEN value BETWEEN 350.5 AND 500.4 THEN 500\n",
    "      END\n",
    "        WHEN pollutant = 'pm10' THEN\n",
    "      CASE\n",
    "        WHEN value BETWEEN 0 AND 54 THEN 50\n",
    "        WHEN value BETWEEN 55 AND 154 THEN 100\n",
    "        WHEN value BETWEEN 155 AND 254 THEN 150\n",
    "        WHEN value BETWEEN 255 AND 354 THEN 200\n",
    "        WHEN value BETWEEN 355 AND 424 THEN 300\n",
    "        WHEN value BETWEEN 425 AND 504 THEN 400\n",
    "        WHEN value BETWEEN 505 AND 604 THEN 500\n",
    "      END\n",
    "  END AS aqi_max\n",
    "\n",
    "  \n",
    "FROM gold.timeline\n",
    "where pollutant in ('pm25', 'pm10')"
   ]
  },
  {
   "cell_type": "code",
   "execution_count": 0,
   "metadata": {
    "application/vnd.databricks.v1+cell": {
     "cellMetadata": {
      "byteLimit": 2048000,
      "implicitDf": true,
      "rowLimit": 10000
     },
     "inputWidgets": {},
     "nuid": "0dc4196b-d446-480e-9fd7-f24fa8dbd06c",
     "showTitle": false,
     "tableResultSettingsMap": {},
     "title": ""
    }
   },
   "outputs": [],
   "source": [
    "%sql\n",
    "select *\n",
    "from gold.aqi_asset\n",
    "LIMIT 5"
   ]
  },
  {
   "cell_type": "code",
   "execution_count": 0,
   "metadata": {
    "application/vnd.databricks.v1+cell": {
     "cellMetadata": {
      "byteLimit": 2048000,
      "implicitDf": true,
      "rowLimit": 10000
     },
     "inputWidgets": {},
     "nuid": "61fbcfbe-c26c-4298-b44c-7df3004d18c8",
     "showTitle": false,
     "tableResultSettingsMap": {},
     "title": ""
    }
   },
   "outputs": [],
   "source": [
    "%sql\n",
    "CREATE OR REPLACE VIEW gold.aqi AS\n",
    "select ROUND((((aqi_max - aqi_min) / (max_b - min_b)) * (value - min_b) + aqi_min)) as aqi, name, pollutant, value, date, max_b, min_b, aqi_max, aqi_min,  latitude, longitude\n",
    "from gold.aqi_asset\n",
    "group by name, pollutant, value, date, max_b, min_b, aqi_max, aqi_min,  latitude, longitude"
   ]
  },
  {
   "cell_type": "code",
   "execution_count": 0,
   "metadata": {
    "application/vnd.databricks.v1+cell": {
     "cellMetadata": {
      "byteLimit": 2048000,
      "implicitDf": true,
      "rowLimit": 10000
     },
     "inputWidgets": {},
     "nuid": "b885210f-84a5-4762-86e3-3a7bf46aceba",
     "showTitle": false,
     "tableResultSettingsMap": {},
     "title": ""
    }
   },
   "outputs": [],
   "source": [
    "%sql\n",
    "select *\n",
    "from gold.aqi\n",
    "order by date, name\n",
    "LIMIT 6"
   ]
  },
  {
   "cell_type": "code",
   "execution_count": 0,
   "metadata": {
    "application/vnd.databricks.v1+cell": {
     "cellMetadata": {
      "byteLimit": 2048000,
      "implicitDf": true,
      "rowLimit": 10000
     },
     "inputWidgets": {},
     "nuid": "d5b0494e-6ea1-4b74-9985-0b0a4ba16a97",
     "showTitle": false,
     "tableResultSettingsMap": {},
     "title": ""
    }
   },
   "outputs": [],
   "source": [
    "%sql\n",
    "select *\n",
    "from gold.full_info\n",
    "where date_trunc('DAY', date) = '2024-12-31T00:00:00.000+00:00' and name = 'Cologne'"
   ]
  },
  {
   "cell_type": "code",
   "execution_count": 0,
   "metadata": {
    "application/vnd.databricks.v1+cell": {
     "cellMetadata": {
      "byteLimit": 2048000,
      "implicitDf": true,
      "rowLimit": 10000
     },
     "inputWidgets": {},
     "nuid": "fb29f7e5-0a87-42fc-844c-db823cbbecbd",
     "showTitle": false,
     "tableResultSettingsMap": {},
     "title": ""
    }
   },
   "outputs": [],
   "source": [
    "%sql\n",
    "CREATE OR REPLACE VIEW gold.final_aqi AS\n",
    "SELECT max(aqi) as aqi, name, date, latitude, longitude\n",
    "FROM gold.aqi\n",
    "GROUP BY name, date, latitude, longitude\n",
    ";\n"
   ]
  },
  {
   "cell_type": "code",
   "execution_count": 0,
   "metadata": {
    "application/vnd.databricks.v1+cell": {
     "cellMetadata": {
      "byteLimit": 2048000,
      "implicitDf": true,
      "rowLimit": 10000
     },
     "inputWidgets": {},
     "nuid": "f03f6910-c98c-4c73-bc47-18b8b3abc7fb",
     "showTitle": false,
     "tableResultSettingsMap": {},
     "title": ""
    }
   },
   "outputs": [],
   "source": [
    "%sql\n",
    "select *\n",
    "from gold.final_aqi\n",
    "order by date, name\n",
    "LIMIT 6"
   ]
  }
 ],
 "metadata": {
  "application/vnd.databricks.v1+notebook": {
   "computePreferences": {
    "hardware": {
     "accelerator": null,
     "gpuPoolId": null,
     "memory": null
    }
   },
   "dashboards": [],
   "environmentMetadata": {
    "base_environment": "",
    "environment_version": "2"
   },
   "inputWidgetPreferences": null,
   "language": "python",
   "notebookMetadata": {
    "mostRecentlyExecutedCommandWithImplicitDF": {
     "commandId": 4759099788610511,
     "dataframes": [
      "_sqldf"
     ]
    },
    "pythonIndentUnit": 4
   },
   "notebookName": "Fullinfo",
   "widgets": {}
  },
  "language_info": {
   "name": "python"
  }
 },
 "nbformat": 4,
 "nbformat_minor": 0
}
